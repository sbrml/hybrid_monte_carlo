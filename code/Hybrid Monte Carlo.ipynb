{
 "cells": [
  {
   "cell_type": "markdown",
   "metadata": {},
   "source": [
    "# Hybrid Monte Carlo\n",
    "\n",
    "TODO:\n",
    " - Kernel density estimation for the sampled values\n",
    " - Trajectory animation"
   ]
  },
  {
   "cell_type": "code",
   "execution_count": 1,
   "metadata": {},
   "outputs": [],
   "source": [
    "%matplotlib inline\n",
    "\n",
    "import autograd.numpy as np\n",
    "from autograd import jacobian\n",
    "\n",
    "from scipy.signal import correlate\n",
    "\n",
    "import matplotlib\n",
    "import matplotlib.pyplot as plt\n",
    "import matplotlib.animation as animation\n",
    "\n",
    "from tqdm import tqdm_notebook as tqdm\n",
    "\n",
    "from IPython.display import HTML, Image"
   ]
  },
  {
   "cell_type": "code",
   "execution_count": 2,
   "metadata": {},
   "outputs": [],
   "source": [
    "def gaussian_potential(mean, cov):\n",
    "    \n",
    "    def E(z):\n",
    "        z_ = (z - mean)\n",
    "        return 0.5 * np.sum(np.dot(z_, cov) * z_, axis=-1)\n",
    "    \n",
    "    return E"
   ]
  },
  {
   "cell_type": "code",
   "execution_count": 3,
   "metadata": {},
   "outputs": [],
   "source": [
    "def kinetic_energy(scale, size):\n",
    "    \n",
    "    def K(r):\n",
    "        return 0.5 * np.dot(r, r) / (scale**2)\n",
    "        \n",
    "    def sample():\n",
    "        return np.random.normal(loc=0., scale=scale, size=size)\n",
    "        \n",
    "    return K, sample"
   ]
  },
  {
   "cell_type": "code",
   "execution_count": 4,
   "metadata": {},
   "outputs": [],
   "source": [
    "def hamiltonian(E, K):\n",
    "    \n",
    "    def H(z, r):\n",
    "        return E(z) + K(r)\n",
    "    \n",
    "    return H"
   ]
  },
  {
   "cell_type": "code",
   "execution_count": 5,
   "metadata": {},
   "outputs": [],
   "source": [
    "def run_dynamics(r_0, z_0, epsilon, num_steps, dE_dz):\n",
    "    \"\"\"\n",
    "    Leapfrog integration of the dynamics for\n",
    "    \n",
    "    time = num_steps * epsilon \n",
    "    \"\"\"\n",
    "    \n",
    "    # We accumulate all positions in this list\n",
    "    zs = [z_0]\n",
    "\n",
    "    z = z_0\n",
    "    \n",
    "    # First momentum update\n",
    "    r = r_0 - epsilon / 2. * dE_dz(z)\n",
    "    \n",
    "    for i in range(num_steps - 1):\n",
    "        \n",
    "        # Middle leapfrog steps\n",
    "        z = z + epsilon * r\n",
    "        r = r - epsilon * dE_dz(z)\n",
    "        \n",
    "        zs.append(z)\n",
    "     \n",
    "    # Final leapfrog updates\n",
    "    z = z + epsilon * r\n",
    "    r = r - epsilon / 2. * dE_dz(z)\n",
    "    \n",
    "    zs.append(z)\n",
    "    \n",
    "    return z, r, zs"
   ]
  },
  {
   "cell_type": "code",
   "execution_count": 6,
   "metadata": {},
   "outputs": [
    {
     "data": {
      "application/vnd.jupyter.widget-view+json": {
       "model_id": "b99ee606e07c49c3afd644cc7053e8c4",
       "version_major": 2,
       "version_minor": 0
      },
      "text/plain": [
       "HBox(children=(IntProgress(value=0, max=5000), HTML(value='')))"
      ]
     },
     "metadata": {},
     "output_type": "display_data"
    },
    {
     "name": "stdout",
     "output_type": "stream",
     "text": [
      "\n"
     ]
    }
   ],
   "source": [
    "# Define the E Gaussian\n",
    "mean = np.array([0, 0]).T\n",
    "cov = np.array([[1, 0.8], \n",
    "                [0.8, 1]])\n",
    "\n",
    "# Define HMC parameters\n",
    "mixing_time = 50\n",
    "\n",
    "num_integral_steps = 10\n",
    "num_samples = 100 * mixing_time\n",
    "epsilon = 1e-1\n",
    "\n",
    "z_0 = np.array([0, 0]).T\n",
    "\n",
    "simulations = []\n",
    "accepts = []\n",
    "\n",
    "samples = []\n",
    "\n",
    "E = gaussian_potential(mean=mean,\n",
    "                       cov=cov)\n",
    "K, sample = kinetic_energy(scale=1., size=z_0.shape)\n",
    "H = hamiltonian(E, K)\n",
    "\n",
    "for step in tqdm(range(num_samples)):\n",
    "    \n",
    "    # Sample r\n",
    "    r_0 = sample()\n",
    "    \n",
    "    # Sample direction\n",
    "    sign = np.random.choice([-1, 1])\n",
    "    \n",
    "    step_size = sign * epsilon\n",
    "    \n",
    "    # Run the system dynamics\n",
    "    z, r, zs = run_dynamics(r_0, z_0, step_size, num_integral_steps, jacobian(E))\n",
    "    \n",
    "    # Metropolis accept/reject step\n",
    "    threshold = np.minimum(1, np.exp(H(z_0, r_0) - H(z, r)))\n",
    "    \n",
    "    u = np.random.uniform(low=0., high=1.)\n",
    "    \n",
    "    is_accepted = threshold >= u\n",
    "    \n",
    "    if is_accepted:\n",
    "        z_0 = z\n",
    "    \n",
    "    # Append the new sample to the list\n",
    "    samples.append(z_0)\n",
    "    \n",
    "    # Add simulations\n",
    "    simulations.append(zs)\n",
    "    accepts.append(is_accepted)\n",
    "    \n",
    "# Trim the samples so that we get realtively uncorrelated samples\n",
    "samples = np.array(samples)[::mixing_time]"
   ]
  },
  {
   "cell_type": "code",
   "execution_count": 7,
   "metadata": {},
   "outputs": [
    {
     "data": {
      "image/png": "[encoded data removed]",
      "text/plain": [
       "<Figure size 720x432 with 1 Axes>"
      ]
     },
     "metadata": {
      "needs_background": "light"
     },
     "output_type": "display_data"
    }
   ],
   "source": [
    "z1 = np.linspace(-5, 5, 20)\n",
    "z2 = np.linspace(-5, 5, 20)\n",
    "\n",
    "z1_grid, z2_grid = np.meshgrid(z1, z2)\n",
    "\n",
    "z_grid = np.stack([z1_grid, z2_grid], axis=-1).reshape(-1, 2)\n",
    "\n",
    "log_likelihood = -E(z_grid).reshape(20, 20)\n",
    "\n",
    "# Plot samples on a contour plot\n",
    "fig, ax = plt.subplots(figsize=(10, 6))\n",
    "\n",
    "ax.scatter(samples[:, 0], samples[:, 1], zorder=2, c='k', marker='x')\n",
    "ax.contourf(z1_grid, z2_grid, log_likelihood, cmap=\"coolwarm\", levels=-0.5*np.arange(12, -0.1, -1)**2, alpha=0.8)\n",
    "ax.set_xlim([-5, 5])\n",
    "ax.set_ylim([-5, 5])\n",
    "\n",
    "plt.show()"
   ]
  },
  {
   "cell_type": "code",
   "execution_count": 8,
   "metadata": {},
   "outputs": [
    {
     "data": {
      "image/png": "[encoded data removed]",
      "text/plain": [
       "<Figure size 432x288 with 1 Axes>"
      ]
     },
     "metadata": {
      "needs_background": "light"
     },
     "output_type": "display_data"
    }
   ],
   "source": [
    "auto_corr = correlate(samples[:, 0], samples[:, 0], mode='same')\n",
    "\n",
    "fig, ax = plt.subplots()\n",
    "ax.plot(auto_corr)\n",
    "\n",
    "plt.show()"
   ]
  },
  {
   "cell_type": "code",
   "execution_count": 9,
   "metadata": {},
   "outputs": [
    {
     "name": "stdout",
     "output_type": "stream",
     "text": [
      "(2, 550)\n"
     ]
    }
   ],
   "source": [
    "def update_plot(num, data, line):\n",
    "    line.set_data(data[..., :num])\n",
    "    return line,\n",
    "\n",
    "fig, ax = plt.subplots(figsize=(10, 6))\n",
    "\n",
    "zs_1 = np.array(simulations[1:51]).reshape((-1, 2)).T\n",
    "\n",
    "print(zs_1.shape)\n",
    "\n",
    "traj, = ax.plot([], [], zorder=2, color='b')\n",
    "ax.scatter(samples[:2, 0], samples[:2, 1], zorder=3, c='k', marker='x')\n",
    "ax.contourf(z1_grid, z2_grid, log_likelihood, cmap=\"coolwarm\", levels=-0.5*np.arange(12, -0.1, -1)**2, alpha=0.8)\n",
    "ax.set_xlim([-5, 5])\n",
    "ax.set_ylim([-5, 5])\n",
    "\n",
    "line_ani = animation.FuncAnimation(fig, update_plot, 700, fargs=(zs_1, traj),\n",
    "                                   interval=50, blit=True)\n",
    "\n",
    "line_ani.save(\"../img/test.gif\", writer='imagemagick', fps=30)\n",
    "plt.close()"
   ]
  },
  {
   "cell_type": "markdown",
   "metadata": {},
   "source": [
    "![HybridMonteCarlo](../img/test.gif \"HMC\")"
   ]
  },
  {
   "cell_type": "code",
   "execution_count": null,
   "metadata": {},
   "outputs": [],
   "source": []
  }
 ],
 "metadata": {
  "kernelspec": {
   "display_name": "Python 3",
   "language": "python",
   "name": "python3"
  },
  "language_info": {
   "codemirror_mode": {
    "name": "ipython",
    "version": 3
   },
   "file_extension": ".py",
   "mimetype": "text/x-python",
   "name": "python",
   "nbconvert_exporter": "python",
   "pygments_lexer": "ipython3",
   "version": "3.7.3"
  }
 },
 "nbformat": 4,
 "nbformat_minor": 2
}
